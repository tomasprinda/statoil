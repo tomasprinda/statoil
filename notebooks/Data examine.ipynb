{
 "cells": [
  {
   "cell_type": "code",
   "execution_count": 4,
   "metadata": {
    "collapsed": false
   },
   "outputs": [
    {
     "name": "stdout",
     "output_type": "stream",
     "text": [
      "Populating the interactive namespace from numpy and matplotlib\n"
     ]
    }
   ],
   "source": [
    "%load_ext autoreload\n",
    "%autoreload 2\n",
    "%pylab inline\n",
    "\n",
    "from collections import defaultdict, OrderedDict, Counter\n",
    "from copy import deepcopy\n",
    "import time\n",
    "import numpy as np\n",
    "from pprint import pprint\n",
    "import matplotlib.pyplot as plt\n",
    "import matplotlib.image as mpimg\n",
    "from scipy.stats import poisson\n",
    "from datetime import date, datetime\n",
    "from common.databases.mdb import Reader\n",
    "import uuid\n",
    "import os\n",
    "import ujson\n",
    "import requests\n",
    "from PIL import Image\n",
    "import io\n",
    "import tensorflow as tf\n",
    "import pickle\n",
    "\n",
    "from statoil import cfg\n",
    "from statoil.utils import json_load, print_info, pickle_load\n"
   ]
  },
  {
   "cell_type": "markdown",
   "metadata": {},
   "source": [
    "# See the data"
   ]
  },
  {
   "cell_type": "code",
   "execution_count": 5,
   "metadata": {
    "collapsed": false
   },
   "outputs": [],
   "source": [
    "traindev = pickle_load(cfg.DATASETS[\"traindev_short\"])"
   ]
  },
  {
   "cell_type": "code",
   "execution_count": 6,
   "metadata": {
    "collapsed": false
   },
   "outputs": [
    {
     "name": "stdout",
     "output_type": "stream",
     "text": [
      "is_iceberg: val:0, type:<class 'int'>\n",
      "id: val:5801c349, type:<class 'str'>\n",
      "inc_angle: val:41.7067, type:<class 'float'>\n",
      "band_1: type:<class 'numpy.ndarray'>, shape:(75, 75), dtype:float32, min:-33.031917572021484, max:10.201019287109375\n",
      "synthetic: val:0, type:<class 'int'>\n",
      "synthetic_method: val:None, type:<class 'NoneType'>\n",
      "band_2: type:<class 'numpy.ndarray'>, shape:(75, 75), dtype:float32, min:-38.406253814697266, max:2.121691942214966\n"
     ]
    }
   ],
   "source": [
    "example = traindev[0]\n",
    "\n",
    "for key in example.keys():\n",
    "    print_info(example[key], key)"
   ]
  },
  {
   "cell_type": "markdown",
   "metadata": {},
   "source": [
    "# Other checks"
   ]
  },
  {
   "cell_type": "markdown",
   "metadata": {},
   "source": [
    "## Check dataset distint"
   ]
  },
  {
   "cell_type": "code",
   "execution_count": 8,
   "metadata": {
    "collapsed": false
   },
   "outputs": [],
   "source": [
    "train = pickle_load(cfg.DATASETS[\"train\"])\n",
    "dev = pickle_load(cfg.DATASETS[\"dev\"])\n",
    "traindev = pickle_load(cfg.DATASETS[\"traindev\"])\n",
    "\n",
    "train_ids = {example[\"id\"] for example in train}\n",
    "dev_ids = {example[\"id\"] for example in dev}\n",
    "traindev_ids = {example[\"id\"] for example in traindev}"
   ]
  },
  {
   "cell_type": "code",
   "execution_count": 9,
   "metadata": {
    "collapsed": false
   },
   "outputs": [
    {
     "name": "stdout",
     "output_type": "stream",
     "text": [
      "train: len:20528, orig_examples: 1283(6.2%), synthetic: 19245(93.8%)\n",
      "dev: len:5136, orig_examples: 321(6.2%), synthetic: 4815(93.8%)\n",
      "traindev: len:25664, orig_examples: 1604(6.2%), synthetic: 24060(93.8%)\n"
     ]
    }
   ],
   "source": [
    "def print_data_stats(dataset, name):\n",
    "    synthetic = sum([example.get(\"synthetic\", 0) for example in dataset])\n",
    "    print(\"{}: len:{}, orig_examples: {}({:.1f}%), synthetic: {}({:.1f}%)\".format(\n",
    "            name, \n",
    "            len(dataset), \n",
    "            len(dataset) - synthetic, \n",
    "            (len(dataset) - synthetic)/len(dataset)*100,\n",
    "            synthetic, \n",
    "            synthetic/len(dataset)*100,\n",
    "        ))\n",
    "\n",
    "print_data_stats(train, \"train\")\n",
    "print_data_stats(dev, \"dev\")\n",
    "print_data_stats(traindev, \"traindev\")"
   ]
  },
  {
   "cell_type": "code",
   "execution_count": 5,
   "metadata": {
    "collapsed": false
   },
   "outputs": [
    {
     "name": "stdout",
     "output_type": "stream",
     "text": [
      "len(train) = 23094\n",
      "len(dev) = 321\n",
      "len(traindev) = 1604\n",
      "0\n",
      "321\n",
      "1283\n"
     ]
    }
   ],
   "source": [
    "\n",
    "print(\"len(dev) = {}\".format(len(dev)))\n",
    "print(\"len(traindev) = {}\".format(len(traindev)))\n",
    "\n",
    "print(len(train_ids & dev_ids))\n",
    "print(len(traindev_ids & dev_ids))\n",
    "print(len(traindev_ids & train_ids))\n",
    "\n"
   ]
  },
  {
   "cell_type": "markdown",
   "metadata": {},
   "source": [
    "### Compare loading times"
   ]
  },
  {
   "cell_type": "code",
   "execution_count": 26,
   "metadata": {
    "collapsed": false
   },
   "outputs": [
    {
     "name": "stderr",
     "output_type": "stream",
     "text": [
      "/home/prinda/.pyenv/versions/3.5.2/envs/py3/lib/python3.5/site-packages/matplotlib/__init__.py:1401: UserWarning:  This call to matplotlib.use() has no effect\n",
      "because the backend has already been chosen;\n",
      "matplotlib.use() must be called *before* pylab, matplotlib.pyplot,\n",
      "or matplotlib.backends is imported for the first time.\n",
      "\n",
      "  warnings.warn(_use_error_msg)\n"
     ]
    },
    {
     "name": "stdout",
     "output_type": "stream",
     "text": [
      "CPU times: user 1.26 s, sys: 228 ms, total: 1.48 s\n",
      "Wall time: 1.98 s\n",
      "CPU times: user 7.16 s, sys: 7.55 s, total: 14.7 s\n",
      "Wall time: 17.6 s\n",
      "CPU times: user 168 ms, sys: 56 ms, total: 224 ms\n",
      "Wall time: 389 ms\n",
      "CPU times: user 1.56 s, sys: 168 ms, total: 1.73 s\n",
      "Wall time: 1.73 s\n"
     ]
    }
   ],
   "source": [
    "%time traindev = json_load(cfg.RAW_TRAINSET)\n",
    "%time test = json_load(cfg.RAW_TESTSET)\n",
    "\n",
    "%time traindev = pickle_load(cfg.DATASETS[\"traindev\"])\n",
    "%time test = pickle_load(cfg.DATASETS[\"test\"])"
   ]
  },
  {
   "cell_type": "code",
   "execution_count": 13,
   "metadata": {
    "collapsed": false
   },
   "outputs": [
    {
     "data": {
      "text/plain": [
       "0.9444444444444444"
      ]
     },
     "execution_count": 13,
     "metadata": {},
     "output_type": "execute_result"
    }
   ],
   "source": [
    "17/18\n"
   ]
  },
  {
   "cell_type": "code",
   "execution_count": null,
   "metadata": {
    "collapsed": true
   },
   "outputs": [],
   "source": []
  },
  {
   "cell_type": "code",
   "execution_count": null,
   "metadata": {
    "collapsed": true
   },
   "outputs": [],
   "source": []
  }
 ],
 "metadata": {
  "kernelspec": {
   "display_name": "Python 3",
   "language": "python",
   "name": "python3"
  },
  "language_info": {
   "codemirror_mode": {
    "name": "ipython",
    "version": 3
   },
   "file_extension": ".py",
   "mimetype": "text/x-python",
   "name": "python",
   "nbconvert_exporter": "python",
   "pygments_lexer": "ipython3",
   "version": "3.5.2"
  }
 },
 "nbformat": 4,
 "nbformat_minor": 1
}
