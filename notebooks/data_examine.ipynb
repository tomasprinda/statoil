{
 "cells": [
  {
   "cell_type": "code",
   "execution_count": 1,
   "metadata": {
    "collapsed": false
   },
   "outputs": [
    {
     "name": "stdout",
     "output_type": "stream",
     "text": [
      "Populating the interactive namespace from numpy and matplotlib\n"
     ]
    }
   ],
   "source": [
    "%load_ext autoreload\n",
    "%autoreload 2\n",
    "%pylab inline\n",
    "\n",
    "from collections import defaultdict, OrderedDict, Counter\n",
    "from copy import deepcopy\n",
    "import time\n",
    "import numpy as np\n",
    "from pprint import pprint\n",
    "import matplotlib.pyplot as plt\n",
    "import matplotlib.image as mpimg\n",
    "from scipy.stats import poisson\n",
    "from datetime import date, datetime\n",
    "from common.databases.mdb import Reader\n",
    "import uuid\n",
    "import os\n",
    "import ujson\n",
    "import requests\n",
    "from PIL import Image\n",
    "import io\n",
    "import tensorflow as tf\n",
    "import pickle\n",
    "\n",
    "from statoil import cfg\n",
    "from statoil.utils import json_load, print_info, pickle_load\n"
   ]
  },
  {
   "cell_type": "markdown",
   "metadata": {},
   "source": [
    "# See the data"
   ]
  },
  {
   "cell_type": "code",
   "execution_count": 2,
   "metadata": {
    "collapsed": false
   },
   "outputs": [],
   "source": [
    "traindev = pickle_load(cfg.DATASETS[\"traindev_short\"])"
   ]
  },
  {
   "cell_type": "code",
   "execution_count": 3,
   "metadata": {
    "collapsed": false
   },
   "outputs": [
    {
     "name": "stdout",
     "output_type": "stream",
     "text": [
      "inc_angle: val:34.4718, type:<class 'float'>\n",
      "is_iceberg: val:1, type:<class 'int'>\n",
      "id: val:20b1e634, type:<class 'str'>\n",
      "band_1: type:<class 'numpy.ndarray'>, shape:(75, 75), dtype:float32, min:-28.76497459411621, max:7.201947212219238\n",
      "synthetic: val:0, type:<class 'int'>\n",
      "synthetic_method: val:None, type:<class 'NoneType'>\n",
      "band_2: type:<class 'numpy.ndarray'>, shape:(75, 75), dtype:float32, min:-34.419029235839844, max:-3.9169700145721436\n"
     ]
    }
   ],
   "source": [
    "example = traindev[0]\n",
    "\n",
    "for key in example.keys():\n",
    "    print_info(example[key], key)"
   ]
  },
  {
   "cell_type": "markdown",
   "metadata": {},
   "source": [
    "# Other checks"
   ]
  },
  {
   "cell_type": "markdown",
   "metadata": {},
   "source": [
    "## Check dataset distint"
   ]
  },
  {
   "cell_type": "code",
   "execution_count": 4,
   "metadata": {
    "collapsed": false
   },
   "outputs": [],
   "source": [
    "train = pickle_load(cfg.DATASETS[\"train\"])\n",
    "dev = pickle_load(cfg.DATASETS[\"dev\"])\n",
    "traindev = pickle_load(cfg.DATASETS[\"traindev\"])\n",
    "\n",
    "train_ids = {example[\"id\"] for example in train}\n",
    "dev_ids = {example[\"id\"] for example in dev}\n",
    "traindev_ids = {example[\"id\"] for example in traindev}"
   ]
  },
  {
   "cell_type": "code",
   "execution_count": 5,
   "metadata": {
    "collapsed": false
   },
   "outputs": [
    {
     "name": "stdout",
     "output_type": "stream",
     "text": [
      "train: len:10264, orig_examples: 1283(12.5%), synthetic: 8981(87.5%)\n",
      "dev: len:2568, orig_examples: 321(12.5%), synthetic: 2247(87.5%)\n",
      "traindev: len:12832, orig_examples: 1604(12.5%), synthetic: 11228(87.5%)\n"
     ]
    }
   ],
   "source": [
    "def print_data_stats(dataset, name):\n",
    "    synthetic = sum([example.get(\"synthetic\", 0) for example in dataset])\n",
    "    print(\"{}: len:{}, orig_examples: {}({:.1f}%), synthetic: {}({:.1f}%)\".format(\n",
    "            name, \n",
    "            len(dataset), \n",
    "            len(dataset) - synthetic, \n",
    "            (len(dataset) - synthetic)/len(dataset)*100,\n",
    "            synthetic, \n",
    "            synthetic/len(dataset)*100,\n",
    "        ))\n",
    "\n",
    "print_data_stats(train, \"train\")\n",
    "print_data_stats(dev, \"dev\")\n",
    "print_data_stats(traindev, \"traindev\")"
   ]
  },
  {
   "cell_type": "code",
   "execution_count": 6,
   "metadata": {
    "collapsed": false
   },
   "outputs": [
    {
     "name": "stdout",
     "output_type": "stream",
     "text": [
      "len(dev) = 2568\n",
      "len(traindev) = 12832\n",
      "0\n",
      "2568\n",
      "10264\n"
     ]
    }
   ],
   "source": [
    "print(\"len(dev) = {}\".format(len(dev)))\n",
    "print(\"len(traindev) = {}\".format(len(traindev)))\n",
    "\n",
    "print(len(train_ids & dev_ids))\n",
    "print(len(traindev_ids & dev_ids))\n",
    "print(len(traindev_ids & train_ids))\n",
    "\n"
   ]
  }
 ],
 "metadata": {
  "kernelspec": {
   "display_name": "Python 3",
   "language": "python",
   "name": "python3"
  },
  "language_info": {
   "codemirror_mode": {
    "name": "ipython",
    "version": 3
   },
   "file_extension": ".py",
   "mimetype": "text/x-python",
   "name": "python",
   "nbconvert_exporter": "python",
   "pygments_lexer": "ipython3",
   "version": "3.5.2"
  }
 },
 "nbformat": 4,
 "nbformat_minor": 1
}
